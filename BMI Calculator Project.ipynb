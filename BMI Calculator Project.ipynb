{
 "cells": [
  {
   "cell_type": "markdown",
   "id": "5cd48720",
   "metadata": {},
   "source": [
    "# BMI Calcuator(Body Mass Index)\n",
    "Body Mass Index (BMI) is a person's weight in kilograms divided by the square of height in meters. A high BMI can indicate high body fatness. BMI screens for weight categories that may lead to health problems, but it does not diagnose the body fatness or health of an individual."
   ]
  },
  {
   "cell_type": "code",
   "execution_count": 74,
   "id": "f436921d",
   "metadata": {
    "scrolled": true
   },
   "outputs": [
    {
     "name": "stdout",
     "output_type": "stream",
     "text": [
      "Enter your name: baby Dadwal\n",
      " Enter your weight in kgs: 75\n",
      " Enter your height in feet and inches: 5.4\n",
      "Your Body Mass Index is :  27.68495477548796\n",
      "baby Dadwal, You are Overweight\n"
     ]
    }
   ],
   "source": [
    "Name = input(\"Enter your name: \")\n",
    "\n",
    "W = int(input(\" Enter your weight in kgs: \"))\n",
    "H = float(input(\" Enter your height in feet and inches: \"))\n",
    "\n",
    "Convert_H = (H * 0.3048)\n",
    "\n",
    "\n",
    "M = Convert_H * Convert_H\n",
    "\n",
    "\n",
    "BMI = W /M\n",
    "print(\"Your Body Mass Index is : \",BMI)\n",
    "\n",
    "if  BMI>0:\n",
    "    \n",
    "    if(BMI<18.5):\n",
    "        print(Name +\", You are Underweight\")\n",
    "    elif(BMI<=24.9):\n",
    "        print(Name +\", You are Healthy\")\n",
    "    elif(BMI<29.9):\n",
    "        print(Name +\", You are Overweight\")\n",
    "    elif(BMI<34.9):\n",
    "        print(Name +\", You are Obesity\")\n",
    "    elif(BMI<40):\n",
    "        print(Name +\", You are Severe Obesity\")    \n",
    "    else:\n",
    "        print(Name +\", Enter more obese\")"
   ]
  },
  {
   "cell_type": "code",
   "execution_count": null,
   "id": "d764bb42",
   "metadata": {},
   "outputs": [],
   "source": []
  }
 ],
 "metadata": {
  "kernelspec": {
   "display_name": "Python 3 (ipykernel)",
   "language": "python",
   "name": "python3"
  },
  "language_info": {
   "codemirror_mode": {
    "name": "ipython",
    "version": 3
   },
   "file_extension": ".py",
   "mimetype": "text/x-python",
   "name": "python",
   "nbconvert_exporter": "python",
   "pygments_lexer": "ipython3",
   "version": "3.11.5"
  }
 },
 "nbformat": 4,
 "nbformat_minor": 5
}
